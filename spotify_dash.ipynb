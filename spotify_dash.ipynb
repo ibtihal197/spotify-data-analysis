{
 "cells": [
  {
   "cell_type": "code",
   "execution_count": 1,
   "id": "ab68683a",
   "metadata": {},
   "outputs": [],
   "source": [
    "# Import library yang diperlukan\n",
    "import numpy as np\n",
    "import pandas as pd\n",
    "import seaborn as sns\n",
    "import matplotlib.pyplot as plt\n",
    "\n",
    "from dash import html, dcc, Dash, callback, Input, Output, State\n",
    "import plotly.express as px\n",
    "from sklearn import datasets\n",
    "import dash_bootstrap_components as dbc\n",
    "import base64"
   ]
  },
  {
   "cell_type": "markdown",
   "id": "f2d62561",
   "metadata": {},
   "source": [
    "Dataset yang digunakan berasal dari Kaggle: [30000 Spotify Songs](https://www.kaggle.com/datasets/joebeachcapital/30000-spotify-songs)"
   ]
  },
  {
   "cell_type": "code",
   "execution_count": 2,
   "id": "daeb0b0e",
   "metadata": {},
   "outputs": [],
   "source": [
    "df = pd.read_csv('spotify_songs.csv')"
   ]
  },
  {
   "cell_type": "code",
   "execution_count": 3,
   "id": "7ee1d68c",
   "metadata": {},
   "outputs": [
    {
     "data": {
      "text/html": [
       "<div>\n",
       "<style scoped>\n",
       "    .dataframe tbody tr th:only-of-type {\n",
       "        vertical-align: middle;\n",
       "    }\n",
       "\n",
       "    .dataframe tbody tr th {\n",
       "        vertical-align: top;\n",
       "    }\n",
       "\n",
       "    .dataframe thead th {\n",
       "        text-align: right;\n",
       "    }\n",
       "</style>\n",
       "<table border=\"1\" class=\"dataframe\">\n",
       "  <thead>\n",
       "    <tr style=\"text-align: right;\">\n",
       "      <th></th>\n",
       "      <th>track_id</th>\n",
       "      <th>track_name</th>\n",
       "      <th>track_artist</th>\n",
       "      <th>track_popularity</th>\n",
       "      <th>track_album_id</th>\n",
       "      <th>track_album_name</th>\n",
       "      <th>track_album_release_date</th>\n",
       "      <th>playlist_name</th>\n",
       "      <th>playlist_id</th>\n",
       "      <th>playlist_genre</th>\n",
       "      <th>...</th>\n",
       "      <th>key</th>\n",
       "      <th>loudness</th>\n",
       "      <th>mode</th>\n",
       "      <th>speechiness</th>\n",
       "      <th>acousticness</th>\n",
       "      <th>instrumentalness</th>\n",
       "      <th>liveness</th>\n",
       "      <th>valence</th>\n",
       "      <th>tempo</th>\n",
       "      <th>duration_ms</th>\n",
       "    </tr>\n",
       "  </thead>\n",
       "  <tbody>\n",
       "    <tr>\n",
       "      <th>0</th>\n",
       "      <td>6f807x0ima9a1j3VPbc7VN</td>\n",
       "      <td>I Don't Care (with Justin Bieber) - Loud Luxur...</td>\n",
       "      <td>Ed Sheeran</td>\n",
       "      <td>66</td>\n",
       "      <td>2oCs0DGTsRO98Gh5ZSl2Cx</td>\n",
       "      <td>I Don't Care (with Justin Bieber) [Loud Luxury...</td>\n",
       "      <td>2019-06-14</td>\n",
       "      <td>Pop Remix</td>\n",
       "      <td>37i9dQZF1DXcZDD7cfEKhW</td>\n",
       "      <td>pop</td>\n",
       "      <td>...</td>\n",
       "      <td>6</td>\n",
       "      <td>-2.634</td>\n",
       "      <td>1</td>\n",
       "      <td>0.0583</td>\n",
       "      <td>0.1020</td>\n",
       "      <td>0.000000</td>\n",
       "      <td>0.0653</td>\n",
       "      <td>0.518</td>\n",
       "      <td>122.036</td>\n",
       "      <td>194754</td>\n",
       "    </tr>\n",
       "    <tr>\n",
       "      <th>1</th>\n",
       "      <td>0r7CVbZTWZgbTCYdfa2P31</td>\n",
       "      <td>Memories - Dillon Francis Remix</td>\n",
       "      <td>Maroon 5</td>\n",
       "      <td>67</td>\n",
       "      <td>63rPSO264uRjW1X5E6cWv6</td>\n",
       "      <td>Memories (Dillon Francis Remix)</td>\n",
       "      <td>2019-12-13</td>\n",
       "      <td>Pop Remix</td>\n",
       "      <td>37i9dQZF1DXcZDD7cfEKhW</td>\n",
       "      <td>pop</td>\n",
       "      <td>...</td>\n",
       "      <td>11</td>\n",
       "      <td>-4.969</td>\n",
       "      <td>1</td>\n",
       "      <td>0.0373</td>\n",
       "      <td>0.0724</td>\n",
       "      <td>0.004210</td>\n",
       "      <td>0.3570</td>\n",
       "      <td>0.693</td>\n",
       "      <td>99.972</td>\n",
       "      <td>162600</td>\n",
       "    </tr>\n",
       "    <tr>\n",
       "      <th>2</th>\n",
       "      <td>1z1Hg7Vb0AhHDiEmnDE79l</td>\n",
       "      <td>All the Time - Don Diablo Remix</td>\n",
       "      <td>Zara Larsson</td>\n",
       "      <td>70</td>\n",
       "      <td>1HoSmj2eLcsrR0vE9gThr4</td>\n",
       "      <td>All the Time (Don Diablo Remix)</td>\n",
       "      <td>2019-07-05</td>\n",
       "      <td>Pop Remix</td>\n",
       "      <td>37i9dQZF1DXcZDD7cfEKhW</td>\n",
       "      <td>pop</td>\n",
       "      <td>...</td>\n",
       "      <td>1</td>\n",
       "      <td>-3.432</td>\n",
       "      <td>0</td>\n",
       "      <td>0.0742</td>\n",
       "      <td>0.0794</td>\n",
       "      <td>0.000023</td>\n",
       "      <td>0.1100</td>\n",
       "      <td>0.613</td>\n",
       "      <td>124.008</td>\n",
       "      <td>176616</td>\n",
       "    </tr>\n",
       "    <tr>\n",
       "      <th>3</th>\n",
       "      <td>75FpbthrwQmzHlBJLuGdC7</td>\n",
       "      <td>Call You Mine - Keanu Silva Remix</td>\n",
       "      <td>The Chainsmokers</td>\n",
       "      <td>60</td>\n",
       "      <td>1nqYsOef1yKKuGOVchbsk6</td>\n",
       "      <td>Call You Mine - The Remixes</td>\n",
       "      <td>2019-07-19</td>\n",
       "      <td>Pop Remix</td>\n",
       "      <td>37i9dQZF1DXcZDD7cfEKhW</td>\n",
       "      <td>pop</td>\n",
       "      <td>...</td>\n",
       "      <td>7</td>\n",
       "      <td>-3.778</td>\n",
       "      <td>1</td>\n",
       "      <td>0.1020</td>\n",
       "      <td>0.0287</td>\n",
       "      <td>0.000009</td>\n",
       "      <td>0.2040</td>\n",
       "      <td>0.277</td>\n",
       "      <td>121.956</td>\n",
       "      <td>169093</td>\n",
       "    </tr>\n",
       "    <tr>\n",
       "      <th>4</th>\n",
       "      <td>1e8PAfcKUYoKkxPhrHqw4x</td>\n",
       "      <td>Someone You Loved - Future Humans Remix</td>\n",
       "      <td>Lewis Capaldi</td>\n",
       "      <td>69</td>\n",
       "      <td>7m7vv9wlQ4i0LFuJiE2zsQ</td>\n",
       "      <td>Someone You Loved (Future Humans Remix)</td>\n",
       "      <td>2019-03-05</td>\n",
       "      <td>Pop Remix</td>\n",
       "      <td>37i9dQZF1DXcZDD7cfEKhW</td>\n",
       "      <td>pop</td>\n",
       "      <td>...</td>\n",
       "      <td>1</td>\n",
       "      <td>-4.672</td>\n",
       "      <td>1</td>\n",
       "      <td>0.0359</td>\n",
       "      <td>0.0803</td>\n",
       "      <td>0.000000</td>\n",
       "      <td>0.0833</td>\n",
       "      <td>0.725</td>\n",
       "      <td>123.976</td>\n",
       "      <td>189052</td>\n",
       "    </tr>\n",
       "  </tbody>\n",
       "</table>\n",
       "<p>5 rows × 23 columns</p>\n",
       "</div>"
      ],
      "text/plain": [
       "                 track_id                                         track_name  \\\n",
       "0  6f807x0ima9a1j3VPbc7VN  I Don't Care (with Justin Bieber) - Loud Luxur...   \n",
       "1  0r7CVbZTWZgbTCYdfa2P31                    Memories - Dillon Francis Remix   \n",
       "2  1z1Hg7Vb0AhHDiEmnDE79l                    All the Time - Don Diablo Remix   \n",
       "3  75FpbthrwQmzHlBJLuGdC7                  Call You Mine - Keanu Silva Remix   \n",
       "4  1e8PAfcKUYoKkxPhrHqw4x            Someone You Loved - Future Humans Remix   \n",
       "\n",
       "       track_artist  track_popularity          track_album_id  \\\n",
       "0        Ed Sheeran                66  2oCs0DGTsRO98Gh5ZSl2Cx   \n",
       "1          Maroon 5                67  63rPSO264uRjW1X5E6cWv6   \n",
       "2      Zara Larsson                70  1HoSmj2eLcsrR0vE9gThr4   \n",
       "3  The Chainsmokers                60  1nqYsOef1yKKuGOVchbsk6   \n",
       "4     Lewis Capaldi                69  7m7vv9wlQ4i0LFuJiE2zsQ   \n",
       "\n",
       "                                    track_album_name track_album_release_date  \\\n",
       "0  I Don't Care (with Justin Bieber) [Loud Luxury...               2019-06-14   \n",
       "1                    Memories (Dillon Francis Remix)               2019-12-13   \n",
       "2                    All the Time (Don Diablo Remix)               2019-07-05   \n",
       "3                        Call You Mine - The Remixes               2019-07-19   \n",
       "4            Someone You Loved (Future Humans Remix)               2019-03-05   \n",
       "\n",
       "  playlist_name             playlist_id playlist_genre  ... key  loudness  \\\n",
       "0     Pop Remix  37i9dQZF1DXcZDD7cfEKhW            pop  ...   6    -2.634   \n",
       "1     Pop Remix  37i9dQZF1DXcZDD7cfEKhW            pop  ...  11    -4.969   \n",
       "2     Pop Remix  37i9dQZF1DXcZDD7cfEKhW            pop  ...   1    -3.432   \n",
       "3     Pop Remix  37i9dQZF1DXcZDD7cfEKhW            pop  ...   7    -3.778   \n",
       "4     Pop Remix  37i9dQZF1DXcZDD7cfEKhW            pop  ...   1    -4.672   \n",
       "\n",
       "   mode  speechiness  acousticness  instrumentalness  liveness  valence  \\\n",
       "0     1       0.0583        0.1020          0.000000    0.0653    0.518   \n",
       "1     1       0.0373        0.0724          0.004210    0.3570    0.693   \n",
       "2     0       0.0742        0.0794          0.000023    0.1100    0.613   \n",
       "3     1       0.1020        0.0287          0.000009    0.2040    0.277   \n",
       "4     1       0.0359        0.0803          0.000000    0.0833    0.725   \n",
       "\n",
       "     tempo  duration_ms  \n",
       "0  122.036       194754  \n",
       "1   99.972       162600  \n",
       "2  124.008       176616  \n",
       "3  121.956       169093  \n",
       "4  123.976       189052  \n",
       "\n",
       "[5 rows x 23 columns]"
      ]
     },
     "execution_count": 3,
     "metadata": {},
     "output_type": "execute_result"
    }
   ],
   "source": [
    "df.head()"
   ]
  },
  {
   "cell_type": "code",
   "execution_count": 4,
   "id": "313ff458",
   "metadata": {},
   "outputs": [
    {
     "name": "stdout",
     "output_type": "stream",
     "text": [
      "<class 'pandas.core.frame.DataFrame'>\n",
      "RangeIndex: 32833 entries, 0 to 32832\n",
      "Data columns (total 23 columns):\n",
      " #   Column                    Non-Null Count  Dtype  \n",
      "---  ------                    --------------  -----  \n",
      " 0   track_id                  32833 non-null  object \n",
      " 1   track_name                32828 non-null  object \n",
      " 2   track_artist              32828 non-null  object \n",
      " 3   track_popularity          32833 non-null  int64  \n",
      " 4   track_album_id            32833 non-null  object \n",
      " 5   track_album_name          32828 non-null  object \n",
      " 6   track_album_release_date  32833 non-null  object \n",
      " 7   playlist_name             32833 non-null  object \n",
      " 8   playlist_id               32833 non-null  object \n",
      " 9   playlist_genre            32833 non-null  object \n",
      " 10  playlist_subgenre         32833 non-null  object \n",
      " 11  danceability              32833 non-null  float64\n",
      " 12  energy                    32833 non-null  float64\n",
      " 13  key                       32833 non-null  int64  \n",
      " 14  loudness                  32833 non-null  float64\n",
      " 15  mode                      32833 non-null  int64  \n",
      " 16  speechiness               32833 non-null  float64\n",
      " 17  acousticness              32833 non-null  float64\n",
      " 18  instrumentalness          32833 non-null  float64\n",
      " 19  liveness                  32833 non-null  float64\n",
      " 20  valence                   32833 non-null  float64\n",
      " 21  tempo                     32833 non-null  float64\n",
      " 22  duration_ms               32833 non-null  int64  \n",
      "dtypes: float64(9), int64(4), object(10)\n",
      "memory usage: 5.8+ MB\n"
     ]
    }
   ],
   "source": [
    "df.info()"
   ]
  },
  {
   "cell_type": "markdown",
   "id": "9824f190",
   "metadata": {},
   "source": [
    "## About Dataset\n",
    "Hampir 30.000 Lagu dari Spotify API\n",
    "- **track_id**: ID lagu (tipe data object)\n",
    "- **track_name**: nama lagu (tipe data object)\n",
    "- **track_artist**: nama artis (tipe data object)\n",
    "- **track_popularity**: popularitas lagu (0-100) (tipe data integer)\n",
    "- **track_album_id**: ID album (tipe data object)\n",
    "- **track_album_name**: nama album lagu (tipe data object)\n",
    "- **track_album_release_date**: tanggal ketika album dirilis (tipe data object)\n",
    "- **playlist_name**: nama playlist (tipe data object)\n",
    "- **playlist_id**: ID daftar putar (tipe data object)\n",
    "- **playlist_genre**: genre daftar putar (tipe data object)\n",
    "- **playlist_subgenre**: subgenre daftar putar (tipe data object)\n",
    "- **danceability**: ukuran dari 0,0 hingga 1,0 mewakili ukuran seberapa cocok suatu lagu untuk dance (tipe data float)\n",
    "- **energy**: ukuran dari 0,0 hingga 1,0 dan mewakili ukuran persepsi intensitas dan aktivitas (tipe data float)\n",
    "- **key**: perkiraan kunsi keseluruhan trek (tipe data integer)\n",
    "- **loudness**: kenyaringan keseluruhan trek dalam desibel (dB) (tipe data float)\n",
    "- **mode**: menunjukkan modalitas (mayor atau minor) suatu trek. Major diwakili oleh 1 dan minor adalah 0 (tipe data integer)\n",
    "- **speechiness**: mendeteksi keberadaan kata-kata yang diucapkan dalam sebuah trek (tipe data float)\n",
    "- **acousticness**: suatu ukuran dari 0,0 hingga 1,0 untuk menentukan apakah trek tersebut akustik atau tidak (tipe data float)\n",
    "- **instrumentalness**: memprediksi apakah suatu lagu tidak mengandung vokal (tipe data float)\n",
    "- **liveness**: mendeteksi keberadaan penonton dalam rekaman (tipe data float)\n",
    "- **valance**: suatu ukuran dari 0,0 hingga 1,0 yang menggambarkan kepositifan musik yang disampaikan oleh sebuah lagu (tipe data float)\n",
    "- **tempo**: perkiraan tempo keseluruhan trek dalam detak per menit (BPM) (tipe data float)\n",
    "- **durasi_ms**: dua kali lipat durasi lagu dalam milidetik (tipe data integer)"
   ]
  },
  {
   "cell_type": "code",
   "execution_count": 6,
   "id": "afb68002",
   "metadata": {},
   "outputs": [
    {
     "name": "stdout",
     "output_type": "stream",
     "text": [
      "Shape of Dataset : (32833, 23)\n"
     ]
    }
   ],
   "source": [
    "# Mengetahui Ukuran dataset\n",
    "print(\"Shape of Dataset :\",df.shape)"
   ]
  },
  {
   "cell_type": "markdown",
   "id": "95cece5a",
   "metadata": {},
   "source": [
    "Insight: Data ini memiliki 32.833 baris dan 23 kolom/fitur"
   ]
  },
  {
   "cell_type": "markdown",
   "id": "2fba19ff",
   "metadata": {},
   "source": [
    "Selanjutnya, **statistik deskriptif** dilakukan untuk melihat gambaran umum dari data sebelum masuk ke tahap analisis lebih lanjut. Dari sini, kita bisa tahu seperti apa sebaran data, nilai rata-rata, nilai terkecil dan terbesar, serta apakah ada data yang keliatan janggal. Hasil ini bantu kita buat ambil keputusan langkah selanjutnya, misalnya apakah perlu data dibersihkan dulu, atau perlu diubah skalanya biar lebih siap dianalisis."
   ]
  },
  {
   "cell_type": "code",
   "execution_count": 7,
   "id": "b6fee6f9",
   "metadata": {},
   "outputs": [
    {
     "data": {
      "text/html": [
       "<div>\n",
       "<style scoped>\n",
       "    .dataframe tbody tr th:only-of-type {\n",
       "        vertical-align: middle;\n",
       "    }\n",
       "\n",
       "    .dataframe tbody tr th {\n",
       "        vertical-align: top;\n",
       "    }\n",
       "\n",
       "    .dataframe thead th {\n",
       "        text-align: right;\n",
       "    }\n",
       "</style>\n",
       "<table border=\"1\" class=\"dataframe\">\n",
       "  <thead>\n",
       "    <tr style=\"text-align: right;\">\n",
       "      <th></th>\n",
       "      <th>count</th>\n",
       "      <th>mean</th>\n",
       "      <th>std</th>\n",
       "      <th>min</th>\n",
       "      <th>25%</th>\n",
       "      <th>50%</th>\n",
       "      <th>75%</th>\n",
       "      <th>max</th>\n",
       "    </tr>\n",
       "  </thead>\n",
       "  <tbody>\n",
       "    <tr>\n",
       "      <th>track_popularity</th>\n",
       "      <td>32833.0</td>\n",
       "      <td>42.477081</td>\n",
       "      <td>24.984074</td>\n",
       "      <td>0.000000</td>\n",
       "      <td>24.0000</td>\n",
       "      <td>45.000000</td>\n",
       "      <td>62.00000</td>\n",
       "      <td>100.000</td>\n",
       "    </tr>\n",
       "    <tr>\n",
       "      <th>danceability</th>\n",
       "      <td>32833.0</td>\n",
       "      <td>0.654850</td>\n",
       "      <td>0.145085</td>\n",
       "      <td>0.000000</td>\n",
       "      <td>0.5630</td>\n",
       "      <td>0.672000</td>\n",
       "      <td>0.76100</td>\n",
       "      <td>0.983</td>\n",
       "    </tr>\n",
       "    <tr>\n",
       "      <th>energy</th>\n",
       "      <td>32833.0</td>\n",
       "      <td>0.698619</td>\n",
       "      <td>0.180910</td>\n",
       "      <td>0.000175</td>\n",
       "      <td>0.5810</td>\n",
       "      <td>0.721000</td>\n",
       "      <td>0.84000</td>\n",
       "      <td>1.000</td>\n",
       "    </tr>\n",
       "    <tr>\n",
       "      <th>key</th>\n",
       "      <td>32833.0</td>\n",
       "      <td>5.374471</td>\n",
       "      <td>3.611657</td>\n",
       "      <td>0.000000</td>\n",
       "      <td>2.0000</td>\n",
       "      <td>6.000000</td>\n",
       "      <td>9.00000</td>\n",
       "      <td>11.000</td>\n",
       "    </tr>\n",
       "    <tr>\n",
       "      <th>loudness</th>\n",
       "      <td>32833.0</td>\n",
       "      <td>-6.719499</td>\n",
       "      <td>2.988436</td>\n",
       "      <td>-46.448000</td>\n",
       "      <td>-8.1710</td>\n",
       "      <td>-6.166000</td>\n",
       "      <td>-4.64500</td>\n",
       "      <td>1.275</td>\n",
       "    </tr>\n",
       "    <tr>\n",
       "      <th>mode</th>\n",
       "      <td>32833.0</td>\n",
       "      <td>0.565711</td>\n",
       "      <td>0.495671</td>\n",
       "      <td>0.000000</td>\n",
       "      <td>0.0000</td>\n",
       "      <td>1.000000</td>\n",
       "      <td>1.00000</td>\n",
       "      <td>1.000</td>\n",
       "    </tr>\n",
       "    <tr>\n",
       "      <th>speechiness</th>\n",
       "      <td>32833.0</td>\n",
       "      <td>0.107068</td>\n",
       "      <td>0.101314</td>\n",
       "      <td>0.000000</td>\n",
       "      <td>0.0410</td>\n",
       "      <td>0.062500</td>\n",
       "      <td>0.13200</td>\n",
       "      <td>0.918</td>\n",
       "    </tr>\n",
       "    <tr>\n",
       "      <th>acousticness</th>\n",
       "      <td>32833.0</td>\n",
       "      <td>0.175334</td>\n",
       "      <td>0.219633</td>\n",
       "      <td>0.000000</td>\n",
       "      <td>0.0151</td>\n",
       "      <td>0.080400</td>\n",
       "      <td>0.25500</td>\n",
       "      <td>0.994</td>\n",
       "    </tr>\n",
       "    <tr>\n",
       "      <th>instrumentalness</th>\n",
       "      <td>32833.0</td>\n",
       "      <td>0.084747</td>\n",
       "      <td>0.224230</td>\n",
       "      <td>0.000000</td>\n",
       "      <td>0.0000</td>\n",
       "      <td>0.000016</td>\n",
       "      <td>0.00483</td>\n",
       "      <td>0.994</td>\n",
       "    </tr>\n",
       "    <tr>\n",
       "      <th>liveness</th>\n",
       "      <td>32833.0</td>\n",
       "      <td>0.190176</td>\n",
       "      <td>0.154317</td>\n",
       "      <td>0.000000</td>\n",
       "      <td>0.0927</td>\n",
       "      <td>0.127000</td>\n",
       "      <td>0.24800</td>\n",
       "      <td>0.996</td>\n",
       "    </tr>\n",
       "    <tr>\n",
       "      <th>valence</th>\n",
       "      <td>32833.0</td>\n",
       "      <td>0.510561</td>\n",
       "      <td>0.233146</td>\n",
       "      <td>0.000000</td>\n",
       "      <td>0.3310</td>\n",
       "      <td>0.512000</td>\n",
       "      <td>0.69300</td>\n",
       "      <td>0.991</td>\n",
       "    </tr>\n",
       "    <tr>\n",
       "      <th>tempo</th>\n",
       "      <td>32833.0</td>\n",
       "      <td>120.881132</td>\n",
       "      <td>26.903624</td>\n",
       "      <td>0.000000</td>\n",
       "      <td>99.9600</td>\n",
       "      <td>121.984000</td>\n",
       "      <td>133.91800</td>\n",
       "      <td>239.440</td>\n",
       "    </tr>\n",
       "    <tr>\n",
       "      <th>duration_ms</th>\n",
       "      <td>32833.0</td>\n",
       "      <td>225799.811622</td>\n",
       "      <td>59834.006182</td>\n",
       "      <td>4000.000000</td>\n",
       "      <td>187819.0000</td>\n",
       "      <td>216000.000000</td>\n",
       "      <td>253585.00000</td>\n",
       "      <td>517810.000</td>\n",
       "    </tr>\n",
       "  </tbody>\n",
       "</table>\n",
       "</div>"
      ],
      "text/plain": [
       "                    count           mean           std          min  \\\n",
       "track_popularity  32833.0      42.477081     24.984074     0.000000   \n",
       "danceability      32833.0       0.654850      0.145085     0.000000   \n",
       "energy            32833.0       0.698619      0.180910     0.000175   \n",
       "key               32833.0       5.374471      3.611657     0.000000   \n",
       "loudness          32833.0      -6.719499      2.988436   -46.448000   \n",
       "mode              32833.0       0.565711      0.495671     0.000000   \n",
       "speechiness       32833.0       0.107068      0.101314     0.000000   \n",
       "acousticness      32833.0       0.175334      0.219633     0.000000   \n",
       "instrumentalness  32833.0       0.084747      0.224230     0.000000   \n",
       "liveness          32833.0       0.190176      0.154317     0.000000   \n",
       "valence           32833.0       0.510561      0.233146     0.000000   \n",
       "tempo             32833.0     120.881132     26.903624     0.000000   \n",
       "duration_ms       32833.0  225799.811622  59834.006182  4000.000000   \n",
       "\n",
       "                          25%            50%           75%         max  \n",
       "track_popularity      24.0000      45.000000      62.00000     100.000  \n",
       "danceability           0.5630       0.672000       0.76100       0.983  \n",
       "energy                 0.5810       0.721000       0.84000       1.000  \n",
       "key                    2.0000       6.000000       9.00000      11.000  \n",
       "loudness              -8.1710      -6.166000      -4.64500       1.275  \n",
       "mode                   0.0000       1.000000       1.00000       1.000  \n",
       "speechiness            0.0410       0.062500       0.13200       0.918  \n",
       "acousticness           0.0151       0.080400       0.25500       0.994  \n",
       "instrumentalness       0.0000       0.000016       0.00483       0.994  \n",
       "liveness               0.0927       0.127000       0.24800       0.996  \n",
       "valence                0.3310       0.512000       0.69300       0.991  \n",
       "tempo                 99.9600     121.984000     133.91800     239.440  \n",
       "duration_ms       187819.0000  216000.000000  253585.00000  517810.000  "
      ]
     },
     "execution_count": 7,
     "metadata": {},
     "output_type": "execute_result"
    }
   ],
   "source": [
    "# Mengetahui statistik deskriptif data\n",
    "df.describe().T"
   ]
  },
  {
   "cell_type": "markdown",
   "id": "22d9542a",
   "metadata": {},
   "source": [
    "Penjelasan kolom:\n",
    "- **count**: jumlah data (sama untuk semua fitur = 32.833 lagu)\n",
    "- **mean**: rata-rata\n",
    "- **std**: standar deviasi (variabilitas data)\n",
    "- **min & max**: nilai minimum dan maksimum\n",
    "- **25% / 50% / 75%**: kuartil (Q1, Q2/median, Q3)"
   ]
  },
  {
   "cell_type": "markdown",
   "id": "da914995",
   "metadata": {},
   "source": [
    "🎵 `track_popularity`\n",
    "- **Mean**: 42,47 → rata-rata popularitas lagu di Spotify adalah 42, dari skala 0–100.\n",
    "- **Max**: 100 → ada lagu yang sangat populer.\n",
    "- **Min**: 0 → ada lagu yang tidak populer sama sekali\n",
    "\n",
    "Distribusinya cukup lebar, karena `std = 24.98`."
   ]
  },
  {
   "cell_type": "markdown",
   "id": "157c5363",
   "metadata": {},
   "source": [
    "💃 `danceability` (keterdansaan)\n",
    "- Skala 0–1, rata-rata 0.65 → lagu di dataset cenderung mudah untuk ditarikan.\n",
    "- 75% > 0.76 → sebagian besar lagu cukup \"groovy\"."
   ]
  },
  {
   "cell_type": "markdown",
   "id": "38d27b65",
   "metadata": {},
   "source": [
    "⚡ `energy`\n",
    "- Mean: 0.69 → umumnya lagu-lagu ini berenergi tinggi.\n",
    "- Skala juga 0–1, jadi nilai ini termasuk tinggi."
   ]
  },
  {
   "cell_type": "markdown",
   "id": "49331df0",
   "metadata": {},
   "source": [
    "🎼 `key` (nada dasar)\n",
    "- Skala 0–11 (seperti 12 kunci nada dalam musik)\n",
    "- Mean: 5.37 → distribusi kunci musik relatif merata, tidak bias ke satu nada tertentu."
   ]
  },
  {
   "cell_type": "markdown",
   "id": "969dd470",
   "metadata": {},
   "source": [
    "🔊 `loudness` (desibel)\n",
    "- Mean: -8.71 dB → umumnya lagu memiliki level suara cukup keras (semakin mendekati 0 = semakin keras).\n",
    "- Min: -46 dB → kemungkinan outlier / kesalahan data."
   ]
  },
  {
   "cell_type": "markdown",
   "id": "b846c9b2",
   "metadata": {},
   "source": [
    "🪕 `mode` (mayor = 1, minor = 0)\n",
    "- Mean: 0.56 → mayor lebih banyak (lebih ceria/santai)."
   ]
  },
  {
   "cell_type": "markdown",
   "id": "2fde2f8b",
   "metadata": {},
   "source": [
    "🗣️ `speechiness`\n",
    "- Mean: 0.10 → lagu umumnya tidak dominan spoken word\n",
    "- Tapi ada yang speechiness-nya hingga 0.91 → kemungkinan lagu rap atau podcast."
   ]
  },
  {
   "cell_type": "markdown",
   "id": "e5026982",
   "metadata": {},
   "source": [
    "🌫️ `acousticness`\n",
    "- Mean: 0.17 → dataset didominasi lagu elektronik atau tidak akustik\n",
    "- Tapi ada lagu dengan acousticness hampir 1 → sangat akustik."
   ]
  },
  {
   "cell_type": "markdown",
   "id": "aebbd3dd",
   "metadata": {},
   "source": [
    "🎻 `instrumentalness`\n",
    "- Mean: 0.08 → kebanyakan lagu ada vokalnya.\n",
    "- Max: 0.994 → ada lagu yang benar-benar instrumental."
   ]
  },
  {
   "cell_type": "markdown",
   "id": "de2ee340",
   "metadata": {},
   "source": [
    "📶 `liveness`\n",
    "- Mean: 0.10 → sebagian besar lagu bukan live performance.\n",
    "- Liveness tinggi (di atas 0.8) menunjukkan kemungkinan konser/live recording."
   ]
  },
  {
   "cell_type": "markdown",
   "id": "b20e0067",
   "metadata": {},
   "source": [
    "😊 `valence`\n",
    "- Mean: 0.51 → rata-rata valence netral (tidak terlalu ceria atau sedih).\n",
    "- Valence = kesan emosional lagu (semakin tinggi → makin positif/ceria)."
   ]
  },
  {
   "cell_type": "markdown",
   "id": "e0984b68",
   "metadata": {},
   "source": [
    "🕺 `tempo`\n",
    "- Mean: 120.88 BPM → tempo khas lagu pop dan dance.\n",
    "- Range sangat lebar (39–239 BPM), beberapa lagu sangat lambat atau sangat cepat."
   ]
  },
  {
   "cell_type": "markdown",
   "id": "fd522926",
   "metadata": {},
   "source": [
    "⏱️ `duration_ms`\n",
    "- Mean: 227.980 ms = ~3 menit 48 detik\n",
    "- Min: 4000 ms = 4 detik → kemungkinan outlier\n",
    "- Max: 517810 ms = 8 menit 37 detik"
   ]
  },
  {
   "cell_type": "markdown",
   "id": "e2b04656",
   "metadata": {},
   "source": [
    "a. Dataset ini seimbang antara lagu ceria dan netral (valence ~ 0.5)\n",
    "\n",
    "b. Lagu-lagu dalam dataset cenderung energik, dansabel, dan modern (sedikit yang akustik atau instrumental)\n",
    "\n",
    "c. Ada beberapa outlier (misalnya: loudness, duration_ms, tempo) yang bisa dicek lebih lanjut"
   ]
  },
  {
   "cell_type": "markdown",
   "id": "b1c2d343",
   "metadata": {},
   "source": [
    "## Check Missing Value\n",
    "Ada 3 fitur yang memiliki missing value yaitu track_artist, track_album_name, track_name"
   ]
  },
  {
   "cell_type": "code",
   "execution_count": 8,
   "id": "37b1a68c",
   "metadata": {},
   "outputs": [
    {
     "data": {
      "text/plain": [
       "track_artist                5\n",
       "track_album_name            5\n",
       "track_name                  5\n",
       "track_id                    0\n",
       "key                         0\n",
       "tempo                       0\n",
       "valence                     0\n",
       "liveness                    0\n",
       "instrumentalness            0\n",
       "acousticness                0\n",
       "speechiness                 0\n",
       "mode                        0\n",
       "loudness                    0\n",
       "danceability                0\n",
       "energy                      0\n",
       "playlist_subgenre           0\n",
       "playlist_genre              0\n",
       "playlist_id                 0\n",
       "playlist_name               0\n",
       "track_album_release_date    0\n",
       "track_album_id              0\n",
       "track_popularity            0\n",
       "duration_ms                 0\n",
       "dtype: int64"
      ]
     },
     "execution_count": 8,
     "metadata": {},
     "output_type": "execute_result"
    }
   ],
   "source": [
    "df.isna().sum().sort_values(ascending=False)"
   ]
  },
  {
   "cell_type": "markdown",
   "id": "3e5c26ff",
   "metadata": {},
   "source": [
    "## Check Duplicate\n",
    "Tidak terdapat data duplikat pada dataset ini"
   ]
  },
  {
   "cell_type": "code",
   "execution_count": 10,
   "id": "16e7abf9",
   "metadata": {},
   "outputs": [
    {
     "data": {
      "text/plain": [
       "0"
      ]
     },
     "execution_count": 10,
     "metadata": {},
     "output_type": "execute_result"
    }
   ],
   "source": [
    "df.duplicated().sum()"
   ]
  },
  {
   "cell_type": "markdown",
   "id": "8e946aed",
   "metadata": {},
   "source": [
    "## Data Cleaning"
   ]
  },
  {
   "cell_type": "code",
   "execution_count": 12,
   "id": "6f70cc53",
   "metadata": {},
   "outputs": [],
   "source": [
    "df.dropna(inplace=True)"
   ]
  },
  {
   "cell_type": "code",
   "execution_count": 13,
   "id": "7c300838",
   "metadata": {},
   "outputs": [
    {
     "data": {
      "text/plain": [
       "0"
      ]
     },
     "execution_count": 13,
     "metadata": {},
     "output_type": "execute_result"
    }
   ],
   "source": [
    "df.isna().sum().sum()"
   ]
  },
  {
   "cell_type": "code",
   "execution_count": 14,
   "id": "85b48aad",
   "metadata": {},
   "outputs": [
    {
     "data": {
      "text/plain": [
       "dtype('O')"
      ]
     },
     "execution_count": 14,
     "metadata": {},
     "output_type": "execute_result"
    }
   ],
   "source": [
    "df['track_album_release_date'].dtype"
   ]
  },
  {
   "cell_type": "code",
   "execution_count": 15,
   "id": "5cda5b00",
   "metadata": {},
   "outputs": [
    {
     "data": {
      "text/plain": [
       "2020-01-10    270\n",
       "2019-11-22    244\n",
       "2019-12-06    235\n",
       "2019-12-13    220\n",
       "2013-01-01    219\n",
       "             ... \n",
       "1973-08-28      1\n",
       "2000-03-23      1\n",
       "1967-04         1\n",
       "1968-07-03      1\n",
       "2014-04-18      1\n",
       "Name: track_album_release_date, Length: 4529, dtype: int64"
      ]
     },
     "execution_count": 15,
     "metadata": {},
     "output_type": "execute_result"
    }
   ],
   "source": [
    "df['track_album_release_date'].value_counts()"
   ]
  },
  {
   "cell_type": "code",
   "execution_count": 16,
   "id": "57ca5d01",
   "metadata": {},
   "outputs": [],
   "source": [
    "# Extract release year\n",
    "df['album_release_year'] = pd.DatetimeIndex(df['track_album_release_date']).year"
   ]
  },
  {
   "cell_type": "code",
   "execution_count": 17,
   "id": "c575b16c",
   "metadata": {},
   "outputs": [],
   "source": [
    "# Extract release month\n",
    "df['album_release_month'] = pd.DatetimeIndex(df['track_album_release_date']).month"
   ]
  },
  {
   "cell_type": "markdown",
   "id": "edeee832",
   "metadata": {},
   "source": [
    "Terlihat pada tabel di bawah terdapat dua kolom baru yaitu `album_release_year` dan `album_release_month`. Itu merupakan hasil extract dari data `track_album_release_data`. "
   ]
  },
  {
   "cell_type": "code",
   "execution_count": 18,
   "id": "e61c313e",
   "metadata": {},
   "outputs": [
    {
     "data": {
      "text/html": [
       "<div>\n",
       "<style scoped>\n",
       "    .dataframe tbody tr th:only-of-type {\n",
       "        vertical-align: middle;\n",
       "    }\n",
       "\n",
       "    .dataframe tbody tr th {\n",
       "        vertical-align: top;\n",
       "    }\n",
       "\n",
       "    .dataframe thead th {\n",
       "        text-align: right;\n",
       "    }\n",
       "</style>\n",
       "<table border=\"1\" class=\"dataframe\">\n",
       "  <thead>\n",
       "    <tr style=\"text-align: right;\">\n",
       "      <th></th>\n",
       "      <th>track_id</th>\n",
       "      <th>track_name</th>\n",
       "      <th>track_artist</th>\n",
       "      <th>track_popularity</th>\n",
       "      <th>track_album_id</th>\n",
       "      <th>track_album_name</th>\n",
       "      <th>track_album_release_date</th>\n",
       "      <th>playlist_name</th>\n",
       "      <th>playlist_id</th>\n",
       "      <th>playlist_genre</th>\n",
       "      <th>...</th>\n",
       "      <th>mode</th>\n",
       "      <th>speechiness</th>\n",
       "      <th>acousticness</th>\n",
       "      <th>instrumentalness</th>\n",
       "      <th>liveness</th>\n",
       "      <th>valence</th>\n",
       "      <th>tempo</th>\n",
       "      <th>duration_ms</th>\n",
       "      <th>album_release_year</th>\n",
       "      <th>album_release_month</th>\n",
       "    </tr>\n",
       "  </thead>\n",
       "  <tbody>\n",
       "    <tr>\n",
       "      <th>0</th>\n",
       "      <td>6f807x0ima9a1j3VPbc7VN</td>\n",
       "      <td>I Don't Care (with Justin Bieber) - Loud Luxur...</td>\n",
       "      <td>Ed Sheeran</td>\n",
       "      <td>66</td>\n",
       "      <td>2oCs0DGTsRO98Gh5ZSl2Cx</td>\n",
       "      <td>I Don't Care (with Justin Bieber) [Loud Luxury...</td>\n",
       "      <td>2019-06-14</td>\n",
       "      <td>Pop Remix</td>\n",
       "      <td>37i9dQZF1DXcZDD7cfEKhW</td>\n",
       "      <td>pop</td>\n",
       "      <td>...</td>\n",
       "      <td>1</td>\n",
       "      <td>0.0583</td>\n",
       "      <td>0.1020</td>\n",
       "      <td>0.000000</td>\n",
       "      <td>0.0653</td>\n",
       "      <td>0.518</td>\n",
       "      <td>122.036</td>\n",
       "      <td>194754</td>\n",
       "      <td>2019</td>\n",
       "      <td>6</td>\n",
       "    </tr>\n",
       "    <tr>\n",
       "      <th>1</th>\n",
       "      <td>0r7CVbZTWZgbTCYdfa2P31</td>\n",
       "      <td>Memories - Dillon Francis Remix</td>\n",
       "      <td>Maroon 5</td>\n",
       "      <td>67</td>\n",
       "      <td>63rPSO264uRjW1X5E6cWv6</td>\n",
       "      <td>Memories (Dillon Francis Remix)</td>\n",
       "      <td>2019-12-13</td>\n",
       "      <td>Pop Remix</td>\n",
       "      <td>37i9dQZF1DXcZDD7cfEKhW</td>\n",
       "      <td>pop</td>\n",
       "      <td>...</td>\n",
       "      <td>1</td>\n",
       "      <td>0.0373</td>\n",
       "      <td>0.0724</td>\n",
       "      <td>0.004210</td>\n",
       "      <td>0.3570</td>\n",
       "      <td>0.693</td>\n",
       "      <td>99.972</td>\n",
       "      <td>162600</td>\n",
       "      <td>2019</td>\n",
       "      <td>12</td>\n",
       "    </tr>\n",
       "    <tr>\n",
       "      <th>2</th>\n",
       "      <td>1z1Hg7Vb0AhHDiEmnDE79l</td>\n",
       "      <td>All the Time - Don Diablo Remix</td>\n",
       "      <td>Zara Larsson</td>\n",
       "      <td>70</td>\n",
       "      <td>1HoSmj2eLcsrR0vE9gThr4</td>\n",
       "      <td>All the Time (Don Diablo Remix)</td>\n",
       "      <td>2019-07-05</td>\n",
       "      <td>Pop Remix</td>\n",
       "      <td>37i9dQZF1DXcZDD7cfEKhW</td>\n",
       "      <td>pop</td>\n",
       "      <td>...</td>\n",
       "      <td>0</td>\n",
       "      <td>0.0742</td>\n",
       "      <td>0.0794</td>\n",
       "      <td>0.000023</td>\n",
       "      <td>0.1100</td>\n",
       "      <td>0.613</td>\n",
       "      <td>124.008</td>\n",
       "      <td>176616</td>\n",
       "      <td>2019</td>\n",
       "      <td>7</td>\n",
       "    </tr>\n",
       "    <tr>\n",
       "      <th>3</th>\n",
       "      <td>75FpbthrwQmzHlBJLuGdC7</td>\n",
       "      <td>Call You Mine - Keanu Silva Remix</td>\n",
       "      <td>The Chainsmokers</td>\n",
       "      <td>60</td>\n",
       "      <td>1nqYsOef1yKKuGOVchbsk6</td>\n",
       "      <td>Call You Mine - The Remixes</td>\n",
       "      <td>2019-07-19</td>\n",
       "      <td>Pop Remix</td>\n",
       "      <td>37i9dQZF1DXcZDD7cfEKhW</td>\n",
       "      <td>pop</td>\n",
       "      <td>...</td>\n",
       "      <td>1</td>\n",
       "      <td>0.1020</td>\n",
       "      <td>0.0287</td>\n",
       "      <td>0.000009</td>\n",
       "      <td>0.2040</td>\n",
       "      <td>0.277</td>\n",
       "      <td>121.956</td>\n",
       "      <td>169093</td>\n",
       "      <td>2019</td>\n",
       "      <td>7</td>\n",
       "    </tr>\n",
       "    <tr>\n",
       "      <th>4</th>\n",
       "      <td>1e8PAfcKUYoKkxPhrHqw4x</td>\n",
       "      <td>Someone You Loved - Future Humans Remix</td>\n",
       "      <td>Lewis Capaldi</td>\n",
       "      <td>69</td>\n",
       "      <td>7m7vv9wlQ4i0LFuJiE2zsQ</td>\n",
       "      <td>Someone You Loved (Future Humans Remix)</td>\n",
       "      <td>2019-03-05</td>\n",
       "      <td>Pop Remix</td>\n",
       "      <td>37i9dQZF1DXcZDD7cfEKhW</td>\n",
       "      <td>pop</td>\n",
       "      <td>...</td>\n",
       "      <td>1</td>\n",
       "      <td>0.0359</td>\n",
       "      <td>0.0803</td>\n",
       "      <td>0.000000</td>\n",
       "      <td>0.0833</td>\n",
       "      <td>0.725</td>\n",
       "      <td>123.976</td>\n",
       "      <td>189052</td>\n",
       "      <td>2019</td>\n",
       "      <td>3</td>\n",
       "    </tr>\n",
       "  </tbody>\n",
       "</table>\n",
       "<p>5 rows × 25 columns</p>\n",
       "</div>"
      ],
      "text/plain": [
       "                 track_id                                         track_name  \\\n",
       "0  6f807x0ima9a1j3VPbc7VN  I Don't Care (with Justin Bieber) - Loud Luxur...   \n",
       "1  0r7CVbZTWZgbTCYdfa2P31                    Memories - Dillon Francis Remix   \n",
       "2  1z1Hg7Vb0AhHDiEmnDE79l                    All the Time - Don Diablo Remix   \n",
       "3  75FpbthrwQmzHlBJLuGdC7                  Call You Mine - Keanu Silva Remix   \n",
       "4  1e8PAfcKUYoKkxPhrHqw4x            Someone You Loved - Future Humans Remix   \n",
       "\n",
       "       track_artist  track_popularity          track_album_id  \\\n",
       "0        Ed Sheeran                66  2oCs0DGTsRO98Gh5ZSl2Cx   \n",
       "1          Maroon 5                67  63rPSO264uRjW1X5E6cWv6   \n",
       "2      Zara Larsson                70  1HoSmj2eLcsrR0vE9gThr4   \n",
       "3  The Chainsmokers                60  1nqYsOef1yKKuGOVchbsk6   \n",
       "4     Lewis Capaldi                69  7m7vv9wlQ4i0LFuJiE2zsQ   \n",
       "\n",
       "                                    track_album_name track_album_release_date  \\\n",
       "0  I Don't Care (with Justin Bieber) [Loud Luxury...               2019-06-14   \n",
       "1                    Memories (Dillon Francis Remix)               2019-12-13   \n",
       "2                    All the Time (Don Diablo Remix)               2019-07-05   \n",
       "3                        Call You Mine - The Remixes               2019-07-19   \n",
       "4            Someone You Loved (Future Humans Remix)               2019-03-05   \n",
       "\n",
       "  playlist_name             playlist_id playlist_genre  ... mode  speechiness  \\\n",
       "0     Pop Remix  37i9dQZF1DXcZDD7cfEKhW            pop  ...    1       0.0583   \n",
       "1     Pop Remix  37i9dQZF1DXcZDD7cfEKhW            pop  ...    1       0.0373   \n",
       "2     Pop Remix  37i9dQZF1DXcZDD7cfEKhW            pop  ...    0       0.0742   \n",
       "3     Pop Remix  37i9dQZF1DXcZDD7cfEKhW            pop  ...    1       0.1020   \n",
       "4     Pop Remix  37i9dQZF1DXcZDD7cfEKhW            pop  ...    1       0.0359   \n",
       "\n",
       "   acousticness  instrumentalness  liveness  valence    tempo  duration_ms  \\\n",
       "0        0.1020          0.000000    0.0653    0.518  122.036       194754   \n",
       "1        0.0724          0.004210    0.3570    0.693   99.972       162600   \n",
       "2        0.0794          0.000023    0.1100    0.613  124.008       176616   \n",
       "3        0.0287          0.000009    0.2040    0.277  121.956       169093   \n",
       "4        0.0803          0.000000    0.0833    0.725  123.976       189052   \n",
       "\n",
       "   album_release_year  album_release_month  \n",
       "0                2019                    6  \n",
       "1                2019                   12  \n",
       "2                2019                    7  \n",
       "3                2019                    7  \n",
       "4                2019                    3  \n",
       "\n",
       "[5 rows x 25 columns]"
      ]
     },
     "execution_count": 18,
     "metadata": {},
     "output_type": "execute_result"
    }
   ],
   "source": [
    "df.head()"
   ]
  },
  {
   "cell_type": "code",
   "execution_count": 19,
   "id": "3f7999b3",
   "metadata": {},
   "outputs": [
    {
     "name": "stdout",
     "output_type": "stream",
     "text": [
      "<class 'pandas.core.frame.DataFrame'>\n",
      "Int64Index: 32828 entries, 0 to 32832\n",
      "Data columns (total 25 columns):\n",
      " #   Column                    Non-Null Count  Dtype  \n",
      "---  ------                    --------------  -----  \n",
      " 0   track_id                  32828 non-null  object \n",
      " 1   track_name                32828 non-null  object \n",
      " 2   track_artist              32828 non-null  object \n",
      " 3   track_popularity          32828 non-null  int64  \n",
      " 4   track_album_id            32828 non-null  object \n",
      " 5   track_album_name          32828 non-null  object \n",
      " 6   track_album_release_date  32828 non-null  object \n",
      " 7   playlist_name             32828 non-null  object \n",
      " 8   playlist_id               32828 non-null  object \n",
      " 9   playlist_genre            32828 non-null  object \n",
      " 10  playlist_subgenre         32828 non-null  object \n",
      " 11  danceability              32828 non-null  float64\n",
      " 12  energy                    32828 non-null  float64\n",
      " 13  key                       32828 non-null  int64  \n",
      " 14  loudness                  32828 non-null  float64\n",
      " 15  mode                      32828 non-null  int64  \n",
      " 16  speechiness               32828 non-null  float64\n",
      " 17  acousticness              32828 non-null  float64\n",
      " 18  instrumentalness          32828 non-null  float64\n",
      " 19  liveness                  32828 non-null  float64\n",
      " 20  valence                   32828 non-null  float64\n",
      " 21  tempo                     32828 non-null  float64\n",
      " 22  duration_ms               32828 non-null  int64  \n",
      " 23  album_release_year        32828 non-null  int64  \n",
      " 24  album_release_month       32828 non-null  int64  \n",
      "dtypes: float64(9), int64(6), object(10)\n",
      "memory usage: 6.5+ MB\n"
     ]
    }
   ],
   "source": [
    "df.info()"
   ]
  },
  {
   "cell_type": "code",
   "execution_count": 20,
   "id": "e0233b3a",
   "metadata": {},
   "outputs": [
    {
     "name": "stdout",
     "output_type": "stream",
     "text": [
      "Total Artis: 10692\n"
     ]
    }
   ],
   "source": [
    "# Hitung total artis\n",
    "total_artists = df['track_artist'].nunique()\n",
    "\n",
    "# Tampilkan output\n",
    "print(\"Total Artis:\", total_artists)"
   ]
  },
  {
   "cell_type": "code",
   "execution_count": 21,
   "id": "178e48b0",
   "metadata": {},
   "outputs": [
    {
     "name": "stdout",
     "output_type": "stream",
     "text": [
      "Total Genre: 6\n"
     ]
    }
   ],
   "source": [
    "# Hitung total genre\n",
    "total_genre = df['playlist_genre'].nunique()\n",
    "\n",
    "# Tampilkan output\n",
    "print(\"Total Genre:\", total_genre)"
   ]
  },
  {
   "cell_type": "code",
   "execution_count": 22,
   "id": "c9e90b94",
   "metadata": {},
   "outputs": [
    {
     "name": "stdout",
     "output_type": "stream",
     "text": [
      "Total SubGenre: 24\n"
     ]
    }
   ],
   "source": [
    "# Hitung total subgenre\n",
    "total_subgenre = df['playlist_subgenre'].nunique()\n",
    "\n",
    "# Tampilkan output\n",
    "print(\"Total SubGenre:\", total_subgenre)"
   ]
  },
  {
   "cell_type": "code",
   "execution_count": 23,
   "id": "93a18d4b",
   "metadata": {},
   "outputs": [
    {
     "name": "stdout",
     "output_type": "stream",
     "text": [
      "  playlist_genre  track_popularity\n",
      "2            pop         47.744870\n",
      "1          latin         47.044828\n",
      "4            rap         43.238029\n",
      "5           rock         41.728338\n",
      "3            r&b         41.223532\n",
      "0            edm         34.833526\n"
     ]
    }
   ],
   "source": [
    "# Buat dataframe baru untuk rata-rata popularitas per genre\n",
    "avg_popularity_by_genre = df.groupby('playlist_genre')['track_popularity'].mean().reset_index()\n",
    "\n",
    "# Urutkan berdasarkan popularitas secara descending\n",
    "avg_popularity_by_genre = avg_popularity_by_genre.sort_values(by='track_popularity', ascending=False)\n",
    "\n",
    "# Tampilkan output\n",
    "print(avg_popularity_by_genre)"
   ]
  },
  {
   "cell_type": "code",
   "execution_count": 24,
   "id": "683627ea",
   "metadata": {},
   "outputs": [],
   "source": [
    "df.to_csv('data_clean.csv', index=False)"
   ]
  },
  {
   "cell_type": "code",
   "execution_count": 30,
   "id": "18f59bad",
   "metadata": {},
   "outputs": [
    {
     "name": "stderr",
     "output_type": "stream",
     "text": [
      "C:\\Users\\ASUS\\AppData\\Local\\Temp\\ipykernel_5324\\600414128.py:5: FutureWarning:\n",
      "\n",
      "The error_bad_lines argument has been deprecated and will be removed in a future version. Use on_bad_lines in the future.\n",
      "\n",
      "\n",
      "\n"
     ]
    },
    {
     "data": {
      "text/html": [
       "\n",
       "        <iframe\n",
       "            width=\"100%\"\n",
       "            height=\"650\"\n",
       "            src=\"http://127.0.0.1:8050/\"\n",
       "            frameborder=\"0\"\n",
       "            allowfullscreen\n",
       "            \n",
       "        ></iframe>\n",
       "        "
      ],
      "text/plain": [
       "<IPython.lib.display.IFrame at 0x2812d8d4c40>"
      ]
     },
     "metadata": {},
     "output_type": "display_data"
    }
   ],
   "source": [
    "############################ DATASET ###############################\n",
    "def load_dataset():\n",
    "    # Ganti URL dataset dengan URL dataset Spotify Anda\n",
    "    file_path = 'data_clean.csv'\n",
    "    spotify_df = pd.read_csv(file_path, error_bad_lines=False)\n",
    "    return spotify_df\n",
    "\n",
    "spotify_df = load_dataset()\n",
    "\n",
    "######################## CHARTS ##################################\n",
    "def create_histogram(col_name):\n",
    "    fig = px.histogram(spotify_df, x=col_name, color=\"playlist_genre\", nbins=50, height=400)\n",
    "    fig.update_traces(marker={\"line\":{\"width\": 2, \"color\": \"black\"}})\n",
    "    fig.update_layout(paper_bgcolor=\"#e5ecf6\", margin={\"t\":0})\n",
    "    return fig\n",
    "\n",
    "def create_line_chart_time():\n",
    "    avg_popularity = spotify_df.groupby('album_release_year')['track_popularity'].mean().reset_index()\n",
    "    fig = px.line(avg_popularity, x='album_release_year', y='track_popularity', height=400)\n",
    "    fig.update_traces(marker={\"line\": {\"width\": 2, \"color\": \"black\"}})\n",
    "    fig.update_layout(paper_bgcolor=\"#e5ecf6\", margin={\"t\": 0})\n",
    "    return fig\n",
    "\n",
    "def create_top5_artists_bar_chart():\n",
    "    top_artists = spotify_df.groupby('track_artist')['track_popularity'].mean().reset_index()\n",
    "    top_artists = top_artists.sort_values(by='track_popularity', ascending=False).head(10)\n",
    "    \n",
    "    fig = px.bar(top_artists, x='track_artist', y='track_popularity', height=400)\n",
    "    fig.update_traces(marker={\"line\": {\"width\": 2, \"color\": \"black\"}})\n",
    "    fig.update_layout(paper_bgcolor=\"#e5ecf6\", margin={\"t\": 0})\n",
    "    \n",
    "    return fig\n",
    "\n",
    "def create_bar_chart(col_name):\n",
    "    fig = px.histogram(spotify_df, x=\"playlist_genre\", y=col_name, color=\"playlist_genre\", histfunc=\"avg\", height=400)\n",
    "    fig.update_traces(marker={\"line\":{\"width\": 2, \"color\": \"black\"}})\n",
    "    fig.update_layout(paper_bgcolor=\"#e5ecf6\", margin={\"t\":0})\n",
    "    return fig\n",
    "\n",
    "####################### WIDGETS ##########################\n",
    "hist_drop = dcc.Dropdown(id=\"hist_column\", options=[{'label': col, 'value': col} for col in spotify_df.columns], value=\"track_popularity\",\n",
    "                          clearable=False, className=\"text-dark p-2\")\n",
    "x_axis = dcc.Dropdown(id=\"x_axis\", options=[{'label': col, 'value': col} for col in spotify_df.columns], value=\"track_popularity\",\n",
    "                          clearable=False, className=\"text-dark p-2\")\n",
    "y_axis = dcc.Dropdown(id=\"y_axis\", options=[{'label': col, 'value': col} for col in spotify_df.columns], value=\"acousticness\",\n",
    "                          clearable=False, className=\"text-dark p-2\")\n",
    "avg_drop = dcc.Dropdown(id=\"avg_drop\", options=[{'label': col, 'value': col} for col in spotify_df.columns], value=\"track_popularity\",\n",
    "                          clearable=False, className=\"text-dark p-2\")\n",
    "x_avg_line_time = dcc.Dropdown(id=\"x_avg_line_time\", options=[{'label': col, 'value': col} for col in spotify_df.columns],\n",
    "                                value=\"album_release_year\", clearable=False, className=\"text-dark p-2\")\n",
    "\n",
    "y_avg_line_time = dcc.Dropdown(id=\"y_avg_line_time\", options=[{'label': col, 'value': col} for col in spotify_df.columns],\n",
    "                                value=\"track_popularity\", clearable=False, className=\"text-dark p-2\")\n",
    "x_top5_artists_bar_chart = dcc.Dropdown(\n",
    "    id=\"x_top5_artists_bar_chart\",\n",
    "    options=[{'label': col, 'value': col} for col in spotify_df.columns],\n",
    "    value=\"track_artist\",\n",
    "    clearable=False,\n",
    "    className=\"text-dark p-2\"\n",
    ")\n",
    "\n",
    "y_top5_artists_bar_chart = dcc.Dropdown(\n",
    "    id=\"y_top5_artists_bar_chart\",\n",
    "    options=[{'label': 'Average Popularity', 'value': 'track_popularity'}],\n",
    "    value=\"track_popularity\",\n",
    "    clearable=False,\n",
    "    className=\"text-dark p-2\"\n",
    ")\n",
    "\n",
    "# Dropdown untuk urutan pengurutan bar chart rata-rata popularitas\n",
    "order_dropdown = dcc.Dropdown(id=\"order_dropdown\", options=[\n",
    "    {'label': 'Ascending', 'value': 'asc'},\n",
    "    {'label': 'Descending', 'value': 'desc'}\n",
    "], value='desc', clearable=False, className=\"text-dark p-2\")\n",
    "\n",
    "####################### LAYOUT #############################\n",
    "external_css = [\"https://cdn.jsdelivr.net/npm/bootstrap@5.3.1/dist/css/bootstrap.min.css\", ]\n",
    "app = Dash(__name__, external_stylesheets=[dbc.themes.BOOTSTRAP])\n",
    "\n",
    "sidebar = html.Div([\n",
    "    html.Br(),\n",
    "    html.H3(\"Sidebar\", className=\"text-center fw-bold fs-2\"),\n",
    "    html.Br(),\n",
    "    html.H3(\"Histogram Dropdown\", className=\"fs-4\"),\n",
    "    hist_drop,\n",
    "    html.Br(),\n",
    "    html.H3(\"Line Chart Dropdowns\", className=\"fs-4\"),\n",
    "    x_avg_line_time, y_avg_line_time,\n",
    "    html.Br(),\n",
    "    html.H3(\"Bar Chart Dropdown\", className=\"fs-4\"),\n",
    "    avg_drop,\n",
    "    html.Br(),\n",
    "    html.H3(\"Top 10 Artists Bar Chart Dropdowns\", className=\"fs-4\"),\n",
    "    x_top5_artists_bar_chart, y_top5_artists_bar_chart\n",
    "    ], className=\"col-2 bg-dark text-white\", style={\"height\": \"100vh\"}\n",
    ")\n",
    "\n",
    "image_path_1 = \"./assets/user.png\"\n",
    "\n",
    "# Membaca gambar sebagai base64\n",
    "encoded_image_1 = base64.b64encode(open(image_path_1, \"rb\").read()).decode()\n",
    "\n",
    "# Menambahkan gambar ke dalam modal body\n",
    "modal_body = html.Div([\n",
    "     html.Div([\n",
    "        html.Img(src=f\"data:image/jpeg;base64,{encoded_image_1}\", width=150, className=\"rounded-circle mx-auto d-flex img-thumbnail\"),\n",
    "        html.B(\"Ibtihal Q.L\"),\n",
    "        html.Br(),\n",
    "        # ... (bagian lain dari modal_body tetap sama)\n",
    "    ], style={'flex': '50%', 'padding': '5px','text-align': 'center'}),\n",
    "    html.Br(), \n",
    "])\n",
    "\n",
    "main_content = html.Div([\n",
    "    html.Br(),\n",
    "    html.H2(\"Spotify Dataset Analysis\", className=\"text-center fw-bold fs-1\"),\n",
    "    html.Br(),\n",
    "    html.Div([\n",
    "        dcc.Graph(id=\"histogram\", className=\"col-5\"),\n",
    "        dcc.Graph(id=\"line_chart\", className=\"col-5\")\n",
    "        ], className=\"row\"),\n",
    "    html.Div([\n",
    "        dcc.Graph(id=\"bar_chart\", className=\"col-5\"),\n",
    "        dcc.Graph(id=\"scatter_chart\", className=\"col-5\"),\n",
    "        ],className=\"row\"),\n",
    "        \"Dashboard Designed By : \", dbc.Button(\"IQL\", id=\"open\", n_clicks=0),\n",
    "        dbc.Modal([\n",
    "                dbc.ModalHeader(dbc.ModalTitle(\"IQL\")),\n",
    "                dbc.ModalBody([modal_body]),\n",
    "                dbc.ModalFooter(dbc.Button(\"Close\", id=\"close\", className=\"ms-auto\", n_clicks=0)),\n",
    "        ],\n",
    "        id=\"modal\",\n",
    "        is_open=False,\n",
    "    ),\n",
    "    ], className=\"col\", style={\"height\": \"100vh\", \"background-color\": \"#e5ecf6\"}\n",
    ")\n",
    "\n",
    "app.layout = html.Div([\n",
    "    html.Div([sidebar, main_content], className=\"row\")\n",
    "], className=\"container-fluid\", style={\"height\": \"100vh\"})\n",
    "\n",
    "######################## CALLBACKS #######################################\n",
    "@callback(Output(\"histogram\", \"figure\"), [Input(\"hist_column\", \"value\"), ])\n",
    "def update_histogram(hist_column):\n",
    "    return create_histogram(hist_column)\n",
    "\n",
    "@callback(Output(\"line_chart\", \"figure\"), [Input(\"x_avg_line_time\", \"value\"), Input(\"y_avg_line_time\", \"value\"),])\n",
    "def update_line_chart_time(x_axis, y_axis):\n",
    "    return create_line_chart_time()\n",
    "\n",
    "@callback(Output(\"bar_chart\", \"figure\"), [Input(\"avg_drop\", \"value\"), ])\n",
    "def update_bar(avg_drop):\n",
    "    return create_bar_chart(avg_drop)\n",
    "\n",
    "@callback(Output(\"scatter_chart\", \"figure\"), [Input(\"x_top5_artists_bar_chart\", \"value\"), Input(\"y_top5_artists_bar_chart\", \"value\"),])\n",
    "def update_top5_artists_bar_chart(x_axis, y_axis):\n",
    "    return create_top5_artists_bar_chart()\n",
    "\n",
    "@app.callback(Output(\"modal\", \"is_open\"), [Input(\"open\", \"n_clicks\"), Input(\"close\", \"n_clicks\")], [State(\"modal\", \"is_open\")])\n",
    "def toggle_modal(n1, n2, is_open):\n",
    "    if n1 or n2:\n",
    "        return not is_open\n",
    "    return is_open\n",
    "\n",
    "\n",
    " ################################# RUN APP ##############################\n",
    "if __name__ == \"__main__\":\n",
    "    app.run_server(debug=True)\n"
   ]
  },
  {
   "cell_type": "markdown",
   "id": "bfe7969f",
   "metadata": {},
   "source": [
    "Berikut tampilan dashboard ketika di lokal buka dengan http://127.0.0.1:8050/"
   ]
  },
  {
   "cell_type": "markdown",
   "id": "c8126e53",
   "metadata": {},
   "source": [
    "![Judul Alt](assets/tampilan_dashboard.png)"
   ]
  },
  {
   "cell_type": "markdown",
   "id": "5e9e5cac",
   "metadata": {},
   "source": [
    "## Review"
   ]
  },
  {
   "cell_type": "markdown",
   "id": "14d5566d",
   "metadata": {},
   "source": [
    "A. Histogram: distribusi `track_popularity` berdasarkan `playlist_genre`\n",
    "   - Sebagian besar lagu punya popularitas antara 40–70.\n",
    "   - Genre pop mendominasi hampir di semua tingkat popularitas.\n",
    "   - Jumlah lagu dengan popularitas sangat tinggi (90–100) sangat sedikit.\n",
    "   - Genre rap dan latin juga cukup sering muncul di popularitas menengah ke atas.\n",
    "   \n",
    "Dataset didominasi oleh lagu dengan popularitas menengah, dan genre pop paling umum untuk semua level popularitas."
   ]
  },
  {
   "cell_type": "markdown",
   "id": "004691e2",
   "metadata": {},
   "source": [
    "B. Line Chart: `track_popularity` vs. `album_release_year`\n",
    "   - Terlihat fluktuasi popularitas dari tahun ke tahun.\n",
    "   - 📉 Penurunan cukup signifikan dari era 1980-an ke 2000-an.\n",
    "   - 📈 Popularitas mulai meningkat lagi setelah 2010.\n",
    "\n",
    "Ada tren peningkatan popularitas lagu-lagu yang dirilis dalam dekade terakhir. Bisa jadi karena efek streaming atau promosi digital."
   ]
  },
  {
   "cell_type": "markdown",
   "id": "b1b1b763",
   "metadata": {},
   "source": [
    "C. Bar Chart: rata-rata popularitas lagu berdasarkan `playlist_genre`\n",
    "   - 🎶 Genre pop dan latin memiliki rata-rata popularitas tertinggi (~47–48).\n",
    "   - Genre edm memiliki rata-rata popularitas terendah (~37–38).\n",
    "\n",
    "Pop dan Latin adalah genre yang paling \"marketable\", sedangkan EDM cenderung punya jangkauan popularitas yang lebih kecil di dataset ini."
   ]
  },
  {
   "cell_type": "markdown",
   "id": "b2c28bc4",
   "metadata": {},
   "source": [
    "D. Bar Chart: top 10 artists dengan `track_popularity` tertinggi\n",
    "   - 🔝 Artis seperti Trevor Daniel, Y2K, dan Roddy Ricch punya lagu dengan popularitas mendekati 100.\n",
    "   - Semua artis yang muncul memiliki track dengan nilai popularitas di atas 90."
   ]
  }
 ],
 "metadata": {
  "kernelspec": {
   "display_name": "Python 3 (ipykernel)",
   "language": "python",
   "name": "python3"
  },
  "language_info": {
   "codemirror_mode": {
    "name": "ipython",
    "version": 3
   },
   "file_extension": ".py",
   "mimetype": "text/x-python",
   "name": "python",
   "nbconvert_exporter": "python",
   "pygments_lexer": "ipython3",
   "version": "3.9.16"
  }
 },
 "nbformat": 4,
 "nbformat_minor": 5
}
